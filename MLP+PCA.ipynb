{
 "cells": [
  {
   "cell_type": "code",
   "execution_count": 12,
   "id": "5aa4fd0d-3993-4b4d-a8fb-a306c733b220",
   "metadata": {},
   "outputs": [],
   "source": [
    "\n",
    "#LOading all the libraries\n",
    "import numpy as np\n",
    "import matplotlib.pyplot as plt\n",
    "from sklearn.datasets import fetch_lfw_people\n",
    "from sklearn.model_selection import train_test_split\n",
    "from sklearn.preprocessing import StandardScaler\n",
    "from sklearn.decomposition import PCA\n",
    "from sklearn.neural_network import MLPClassifier\n",
    "from sklearn.metrics import classification_report, confusion_matrix\n"
   ]
  },
  {
   "cell_type": "code",
   "execution_count": 18,
   "id": "c8ace75b-cf8a-4806-8b49-c2784d922a58",
   "metadata": {},
   "outputs": [
    {
     "name": "stdout",
     "output_type": "stream",
     "text": [
      "Unexpected exception formatting exception. Falling back to standard exception\n"
     ]
    },
    {
     "name": "stderr",
     "output_type": "stream",
     "text": [
      "Traceback (most recent call last):\n",
      "  File \"/usr/local/lib/python3.8/dist-packages/IPython/core/interactiveshell.py\", line 3508, in run_code\n",
      "    exec(code_obj, self.user_global_ns, self.user_ns)\n",
      "  File \"/tmp/ipykernel_29440/4061228930.py\", line 16, in <module>\n",
      "    data=fetch_lfw_people(resize=0.4,min_faces_per_person=40,funneled=True)\n",
      "  File \"/home/aaliya/.local/lib/python3.8/site-packages/sklearn/utils/_param_validation.py\", line 214, in wrapper\n",
      "    return func(*args, **kwargs)\n",
      "  File \"/home/aaliya/.local/lib/python3.8/site-packages/sklearn/datasets/_lfw.py\", line 353, in fetch_lfw_people\n",
      "    faces, target, target_names = load_func(\n",
      "  File \"/home/aaliya/.local/lib/python3.8/site-packages/joblib/memory.py\", line 577, in __call__\n",
      "    return self._cached_call(args, kwargs, shelving=False)[0]\n",
      "  File \"/home/aaliya/.local/lib/python3.8/site-packages/joblib/memory.py\", line 532, in _cached_call\n",
      "    return self._call(call_id, args, kwargs, shelving)\n",
      "  File \"/home/aaliya/.local/lib/python3.8/site-packages/joblib/memory.py\", line 771, in _call\n",
      "    output = self.func(*args, **kwargs)\n",
      "  File \"/home/aaliya/.local/lib/python3.8/site-packages/sklearn/datasets/_lfw.py\", line 222, in _fetch_lfw_people\n",
      "    faces = _load_imgs(file_paths, slice_, color, resize)\n",
      "  File \"/home/aaliya/.local/lib/python3.8/site-packages/sklearn/datasets/_lfw.py\", line 162, in _load_imgs\n",
      "    pil_img = Image.open(file_path)\n",
      "  File \"/home/aaliya/.local/lib/python3.8/site-packages/PIL/Image.py\", line 3498, in open\n",
      "    raise UnidentifiedImageError(msg)\n",
      "PIL.UnidentifiedImageError: cannot identify image file '/home/aaliya/scikit_learn_data/lfw_home/lfw_funneled/George_W_Bush/George_W_Bush_0372.jpg'\n",
      "\n",
      "During handling of the above exception, another exception occurred:\n",
      "\n",
      "Traceback (most recent call last):\n",
      "  File \"/usr/local/lib/python3.8/dist-packages/IPython/core/interactiveshell.py\", line 2105, in showtraceback\n",
      "    stb = self.InteractiveTB.structured_traceback(\n",
      "  File \"/usr/local/lib/python3.8/dist-packages/IPython/core/ultratb.py\", line 1396, in structured_traceback\n",
      "    return FormattedTB.structured_traceback(\n",
      "  File \"/usr/local/lib/python3.8/dist-packages/IPython/core/ultratb.py\", line 1287, in structured_traceback\n",
      "    return VerboseTB.structured_traceback(\n",
      "  File \"/usr/local/lib/python3.8/dist-packages/IPython/core/ultratb.py\", line 1140, in structured_traceback\n",
      "    formatted_exception = self.format_exception_as_a_whole(etype, evalue, etb, number_of_lines_of_context,\n",
      "  File \"/usr/local/lib/python3.8/dist-packages/IPython/core/ultratb.py\", line 1030, in format_exception_as_a_whole\n",
      "    self.get_records(etb, number_of_lines_of_context, tb_offset) if etb else []\n",
      "  File \"/usr/local/lib/python3.8/dist-packages/IPython/core/ultratb.py\", line 1082, in get_records\n",
      "    style = stack_data.style_with_executing_node(style, self._tb_highlight)\n",
      "  File \"/usr/local/lib/python3.8/dist-packages/stack_data/core.py\", line 455, in style_with_executing_node\n",
      "    class NewStyle(style):\n",
      "  File \"/usr/lib/python3/dist-packages/pygments/style.py\", line 91, in __new__\n",
      "    ndef[4] = colorformat(styledef[3:])\n",
      "  File \"/usr/lib/python3/dist-packages/pygments/style.py\", line 58, in colorformat\n",
      "    assert False, \"wrong color format %r\" % text\n",
      "AssertionError: wrong color format 'ansiyellow'\n"
     ]
    }
   ],
   "source": [
    "#Fetching dataset lfw\n",
    "#Made a function for loading dataset\n",
    "def load_lfw_dataset(min_faces_per_person=50, resize=0.5):\n",
    "    lfw_people = fetch_lfw_people(min_faces_per_person=min_faces_per_person, resize=resize)\n",
    "    X = lfw_people.data\n",
    "    y = lfw_people.target\n",
    "    target_names = lfw_people.target_names\n",
    "    n_classes = target_names.shape[0]\n",
    "    \n",
    "    print(f\"Dataset dimensions: {X.shape}\")\n",
    "    print(f\"Number of classes: {n_classes}\")\n",
    "    \n",
    "    return X, y, target_names, n_classes\n",
    "\n",
    "#X, y, target_names, n_classes = load_lfw_dataset()#variables\n",
    "data=fetch_lfw_people(resize=0.4,min_faces_per_person=40,funneled=True)"
   ]
  },
  {
   "cell_type": "code",
   "execution_count": null,
   "id": "7de9684c-42f2-4b34-a248-f0e7f4f34f94",
   "metadata": {},
   "outputs": [],
   "source": [
    "#Applying pca and splitting dataset\n",
    "def preprocess_and_split_data(X, y, n_components=200, test_size=0.3, random_state=42):\n",
    "    # Standardizing data\n",
    "    scaler = StandardScaler()\n",
    "    X_scaled = scaler.fit_transform(X)\n",
    "    \n",
    "    # Apply PCA\n",
    "    pca = PCA(n_components=n_components, whiten=True, random_state=random_state)\n",
    "    X_pca = pca.fit_transform(X_scaled)\n",
    "    \n",
    "    # Split the data\n",
    "    X_train, X_test, y_train, y_test = train_test_split(X_pca, y, test_size=test_size, random_state=random_state, stratify=y)\n",
    "    \n",
    "    return X_train, X_test, y_train, y_test, pca\n",
    "\n",
    "X_train, X_test, y_train, y_test, pca = preprocess_and_split_data(X, y)"
   ]
  },
  {
   "cell_type": "raw",
   "id": "77d22493-8b2d-4e43-b774-d2f7f7b8b212",
   "metadata": {},
   "source": [
    "# 3. Implement and fine-tune MLP"
   ]
  },
  {
   "cell_type": "code",
   "execution_count": 3,
   "id": "8ec42cdc-358e-4bcc-a818-d2ae10cb6e16",
   "metadata": {},
   "outputs": [
    {
     "name": "stdout",
     "output_type": "stream",
     "text": [
      "Unexpected exception formatting exception. Falling back to standard exception\n"
     ]
    },
    {
     "name": "stderr",
     "output_type": "stream",
     "text": [
      "Traceback (most recent call last):\n",
      "  File \"/usr/local/lib/python3.8/dist-packages/IPython/core/interactiveshell.py\", line 3508, in run_code\n",
      "    exec(code_obj, self.user_global_ns, self.user_ns)\n",
      "  File \"/tmp/ipykernel_29440/383497687.py\", line 28, in <module>\n",
      "    mlp = create_and_train_mlp(X_train, y_train, hidden_layer_sizes, max_iter, alpha, learning_rate_init)\n",
      "NameError: name 'X_train' is not defined\n",
      "\n",
      "During handling of the above exception, another exception occurred:\n",
      "\n",
      "Traceback (most recent call last):\n",
      "  File \"/usr/local/lib/python3.8/dist-packages/IPython/core/interactiveshell.py\", line 2105, in showtraceback\n",
      "    stb = self.InteractiveTB.structured_traceback(\n",
      "  File \"/usr/local/lib/python3.8/dist-packages/IPython/core/ultratb.py\", line 1396, in structured_traceback\n",
      "    return FormattedTB.structured_traceback(\n",
      "  File \"/usr/local/lib/python3.8/dist-packages/IPython/core/ultratb.py\", line 1287, in structured_traceback\n",
      "    return VerboseTB.structured_traceback(\n",
      "  File \"/usr/local/lib/python3.8/dist-packages/IPython/core/ultratb.py\", line 1140, in structured_traceback\n",
      "    formatted_exception = self.format_exception_as_a_whole(etype, evalue, etb, number_of_lines_of_context,\n",
      "  File \"/usr/local/lib/python3.8/dist-packages/IPython/core/ultratb.py\", line 1030, in format_exception_as_a_whole\n",
      "    self.get_records(etb, number_of_lines_of_context, tb_offset) if etb else []\n",
      "  File \"/usr/local/lib/python3.8/dist-packages/IPython/core/ultratb.py\", line 1082, in get_records\n",
      "    style = stack_data.style_with_executing_node(style, self._tb_highlight)\n",
      "  File \"/usr/local/lib/python3.8/dist-packages/stack_data/core.py\", line 455, in style_with_executing_node\n",
      "    class NewStyle(style):\n",
      "  File \"/usr/lib/python3/dist-packages/pygments/style.py\", line 91, in __new__\n",
      "    ndef[4] = colorformat(styledef[3:])\n",
      "  File \"/usr/lib/python3/dist-packages/pygments/style.py\", line 58, in colorformat\n",
      "    assert False, \"wrong color format %r\" % text\n",
      "AssertionError: wrong color format 'ansiyellow'\n"
     ]
    }
   ],
   "source": [
    "def create_and_train_mlp(X_train, y_train, hidden_layer_sizes=(100,), max_iter=200, alpha=0.0001, learning_rate_init=0.001):\n",
    "    mlp = MLPClassifier(hidden_layer_sizes=hidden_layer_sizes, max_iter=max_iter, alpha=alpha, \n",
    "                        learning_rate_init=learning_rate_init, random_state=42)\n",
    "    mlp.fit(X_train, y_train)\n",
    "    return mlp\n",
    "\n",
    "def plot_learning_curve(mlp):\n",
    "    plt.figure(figsize=(10, 5))\n",
    "    plt.plot(mlp.loss_curve_)\n",
    "    plt.title(\"Learning Curve\")\n",
    "    plt.xlabel(\"Iterations\")\n",
    "    plt.ylabel(\"Loss\")\n",
    "    plt.show()\n",
    "\n",
    "# Fine-tuning with different hyperparameters\n",
    "hidden_layer_sizes_list = [(50,), (100,), (50, 50), (100, 50)]\n",
    "max_iter_list = [100, 200, 300]\n",
    "alpha_list = [0.0001, 0.001, 0.01]\n",
    "learning_rate_init_list = [0.001, 0.01, 0.1]\n",
    "\n",
    "best_score = 0\n",
    "best_params = {}\n",
    "\n",
    "for hidden_layer_sizes in hidden_layer_sizes_list:\n",
    "    for max_iter in max_iter_list:\n",
    "        for alpha in alpha_list:\n",
    "            for learning_rate_init in learning_rate_init_list:\n",
    "                mlp = create_and_train_mlp(X_train, y_train, hidden_layer_sizes, max_iter, alpha, learning_rate_init)\n",
    "                score = mlp.score(X_test, y_test)\n",
    "                \n",
    "                if score > best_score:\n",
    "                    best_score = score\n",
    "                    best_params = {\n",
    "                        'hidden_layer_sizes': hidden_layer_sizes,\n",
    "                        'max_iter': max_iter,\n",
    "                        'alpha': alpha,\n",
    "                        'learning_rate_init': learning_rate_init\n",
    "                    }\n",
    "                \n",
    "                print(f\"Params: {hidden_layer_sizes}, {max_iter}, {alpha}, {learning_rate_init} - Score: {score:.4f}\")\n",
    "\n",
    "print(f\"\\nBest parameters: {best_params}\")\n",
    "print(f\"Best score: {best_score:.4f}\")\n",
    "\n",
    "# Train the best model\n",
    "best_mlp = create_and_train_mlp(X_train, y_train, **best_params)\n",
    "plot_learning_curve(best_mlp)"
   ]
  },
  {
   "cell_type": "raw",
   "id": "ccfd3f22-7cb5-4182-9428-0462d6238b27",
   "metadata": {},
   "source": [
    "# 4. Apply regularization"
   ]
  },
  {
   "cell_type": "code",
   "execution_count": 4,
   "id": "b6f7c9ca-7fcc-4593-9da3-bbc6b35cc238",
   "metadata": {},
   "outputs": [
    {
     "name": "stdout",
     "output_type": "stream",
     "text": [
      "Unexpected exception formatting exception. Falling back to standard exception\n"
     ]
    },
    {
     "name": "stderr",
     "output_type": "stream",
     "text": [
      "Traceback (most recent call last):\n",
      "  File \"/usr/local/lib/python3.8/dist-packages/IPython/core/interactiveshell.py\", line 3508, in run_code\n",
      "    exec(code_obj, self.user_global_ns, self.user_ns)\n",
      "  File \"/tmp/ipykernel_29440/2875545200.py\", line 12, in <module>\n",
      "    mlp = create_and_train_mlp_with_regularization(X_train, y_train, alpha, **best_params)\n",
      "NameError: name 'X_train' is not defined\n",
      "\n",
      "During handling of the above exception, another exception occurred:\n",
      "\n",
      "Traceback (most recent call last):\n",
      "  File \"/usr/local/lib/python3.8/dist-packages/IPython/core/interactiveshell.py\", line 2105, in showtraceback\n",
      "    stb = self.InteractiveTB.structured_traceback(\n",
      "  File \"/usr/local/lib/python3.8/dist-packages/IPython/core/ultratb.py\", line 1396, in structured_traceback\n",
      "    return FormattedTB.structured_traceback(\n",
      "  File \"/usr/local/lib/python3.8/dist-packages/IPython/core/ultratb.py\", line 1287, in structured_traceback\n",
      "    return VerboseTB.structured_traceback(\n",
      "  File \"/usr/local/lib/python3.8/dist-packages/IPython/core/ultratb.py\", line 1140, in structured_traceback\n",
      "    formatted_exception = self.format_exception_as_a_whole(etype, evalue, etb, number_of_lines_of_context,\n",
      "  File \"/usr/local/lib/python3.8/dist-packages/IPython/core/ultratb.py\", line 1030, in format_exception_as_a_whole\n",
      "    self.get_records(etb, number_of_lines_of_context, tb_offset) if etb else []\n",
      "  File \"/usr/local/lib/python3.8/dist-packages/IPython/core/ultratb.py\", line 1082, in get_records\n",
      "    style = stack_data.style_with_executing_node(style, self._tb_highlight)\n",
      "  File \"/usr/local/lib/python3.8/dist-packages/stack_data/core.py\", line 455, in style_with_executing_node\n",
      "    class NewStyle(style):\n",
      "  File \"/usr/lib/python3/dist-packages/pygments/style.py\", line 91, in __new__\n",
      "    ndef[4] = colorformat(styledef[3:])\n",
      "  File \"/usr/lib/python3/dist-packages/pygments/style.py\", line 58, in colorformat\n",
      "    assert False, \"wrong color format %r\" % text\n",
      "AssertionError: wrong color format 'ansiyellow'\n"
     ]
    }
   ],
   "source": [
    "def create_and_train_mlp_with_regularization(X_train, y_train, alpha, l1_ratio=0.5, **kwargs):\n",
    "    mlp = MLPClassifier(alpha=alpha, **kwargs)\n",
    "    mlp.fit(X_train, y_train)\n",
    "    return mlp\n",
    "\n",
    "# Try different regularization strengths//alpha\n",
    "alpha_list = [0.0001, 0.001, 0.01, 0.1]\n",
    "best_reg_score = 0\n",
    "best_reg_params = {}\n",
    "\n",
    "for alpha in alpha_list:\n",
    "    mlp = create_and_train_mlp_with_regularization(X_train, y_train, alpha, **best_params)\n",
    "    score = mlp.score(X_test, y_test)\n",
    "    \n",
    "    if score > best_reg_score:\n",
    "        best_reg_score = score\n",
    "        best_reg_params = {'alpha': alpha, **best_params}\n",
    "    \n",
    "    print(f\"Alpha: {alpha} - Score: {score:.4f}\")\n",
    "\n",
    "print(f\"\\nBest regularized parameters: {best_reg_params}\")\n",
    "print(f\"Best regularized score: {best_reg_score:.4f}\")\n",
    "\n",
    "# Train the best regularized model\n",
    "best_reg_mlp = create_and_train_mlp_with_regularization(X_train, y_train, **best_reg_params)\n",
    "plot_learning_curve(best_reg_mlp)"
   ]
  },
  {
   "cell_type": "code",
   "execution_count": 5,
   "id": "621e31d0-80d2-4be0-8812-ae487424d595",
   "metadata": {},
   "outputs": [],
   "source": [
    "# 5. Perform inference"
   ]
  },
  {
   "cell_type": "code",
   "execution_count": 6,
   "id": "25cb3a14-5895-4429-a201-c2a352294c1e",
   "metadata": {},
   "outputs": [
    {
     "name": "stdout",
     "output_type": "stream",
     "text": [
      "Unexpected exception formatting exception. Falling back to standard exception\n"
     ]
    },
    {
     "name": "stderr",
     "output_type": "stream",
     "text": [
      "Traceback (most recent call last):\n",
      "  File \"/usr/local/lib/python3.8/dist-packages/IPython/core/interactiveshell.py\", line 3508, in run_code\n",
      "    exec(code_obj, self.user_global_ns, self.user_ns)\n",
      "  File \"/tmp/ipykernel_29440/3530001596.py\", line 21, in <module>\n",
      "    perform_inference(best_reg_mlp, X_test, y_test, target_names)\n",
      "NameError: name 'best_reg_mlp' is not defined\n",
      "\n",
      "During handling of the above exception, another exception occurred:\n",
      "\n",
      "Traceback (most recent call last):\n",
      "  File \"/usr/local/lib/python3.8/dist-packages/IPython/core/interactiveshell.py\", line 2105, in showtraceback\n",
      "    stb = self.InteractiveTB.structured_traceback(\n",
      "  File \"/usr/local/lib/python3.8/dist-packages/IPython/core/ultratb.py\", line 1396, in structured_traceback\n",
      "    return FormattedTB.structured_traceback(\n",
      "  File \"/usr/local/lib/python3.8/dist-packages/IPython/core/ultratb.py\", line 1287, in structured_traceback\n",
      "    return VerboseTB.structured_traceback(\n",
      "  File \"/usr/local/lib/python3.8/dist-packages/IPython/core/ultratb.py\", line 1140, in structured_traceback\n",
      "    formatted_exception = self.format_exception_as_a_whole(etype, evalue, etb, number_of_lines_of_context,\n",
      "  File \"/usr/local/lib/python3.8/dist-packages/IPython/core/ultratb.py\", line 1030, in format_exception_as_a_whole\n",
      "    self.get_records(etb, number_of_lines_of_context, tb_offset) if etb else []\n",
      "  File \"/usr/local/lib/python3.8/dist-packages/IPython/core/ultratb.py\", line 1082, in get_records\n",
      "    style = stack_data.style_with_executing_node(style, self._tb_highlight)\n",
      "  File \"/usr/local/lib/python3.8/dist-packages/stack_data/core.py\", line 455, in style_with_executing_node\n",
      "    class NewStyle(style):\n",
      "  File \"/usr/lib/python3/dist-packages/pygments/style.py\", line 91, in __new__\n",
      "    ndef[4] = colorformat(styledef[3:])\n",
      "  File \"/usr/lib/python3/dist-packages/pygments/style.py\", line 58, in colorformat\n",
      "    assert False, \"wrong color format %r\" % text\n",
      "AssertionError: wrong color format 'ansiyellow'\n"
     ]
    }
   ],
   "source": [
    "def perform_inference(model, X_test, y_test, target_names):\n",
    "    y_pred = model.predict(X_test)\n",
    "    \n",
    "    print(\"Classification Report:\")\n",
    "    print(classification_report(y_test, y_pred, target_names=target_names))\n",
    "    \n",
    "    print(\"\\nConfusion Matrix:\")\n",
    "    cm = confusion_matrix(y_test, y_pred)\n",
    "    plt.figure(figsize=(10, 8))\n",
    "    plt.imshow(cm, interpolation='nearest', cmap=plt.cm.Blues)\n",
    "    plt.title(\"Confusion Matrix\")\n",
    "    plt.colorbar()\n",
    "    tick_marks = np.arange(len(target_names))\n",
    "    plt.xticks(tick_marks, target_names, rotation=45)\n",
    "    plt.yticks(tick_marks, target_names)\n",
    "    plt.tight_layout()\n",
    "    plt.ylabel('True label')\n",
    "    plt.xlabel('Predicted label')\n",
    "    plt.show()\n",
    "\n",
    "perform_inference(best_reg_mlp, X_test, y_test, target_names)"
   ]
  },
  {
   "cell_type": "code",
   "execution_count": 7,
   "id": "1b51e639-7f0d-4a92-bff8-5ce92a9ae84a",
   "metadata": {},
   "outputs": [],
   "source": [
    "# Visualize some example predictions"
   ]
  },
  {
   "cell_type": "code",
   "execution_count": 8,
   "id": "d020d174-2059-4476-8da3-2e986ff7f488",
   "metadata": {},
   "outputs": [
    {
     "name": "stdout",
     "output_type": "stream",
     "text": [
      "Unexpected exception formatting exception. Falling back to standard exception\n"
     ]
    },
    {
     "name": "stderr",
     "output_type": "stream",
     "text": [
      "Traceback (most recent call last):\n",
      "  File \"/usr/local/lib/python3.8/dist-packages/IPython/core/interactiveshell.py\", line 3508, in run_code\n",
      "    exec(code_obj, self.user_global_ns, self.user_ns)\n",
      "  File \"/tmp/ipykernel_29440/152817698.py\", line 17, in <module>\n",
      "    for i in range(y_test.shape[0])]\n",
      "NameError: name 'y_test' is not defined\n",
      "\n",
      "During handling of the above exception, another exception occurred:\n",
      "\n",
      "Traceback (most recent call last):\n",
      "  File \"/usr/local/lib/python3.8/dist-packages/IPython/core/interactiveshell.py\", line 2105, in showtraceback\n",
      "    stb = self.InteractiveTB.structured_traceback(\n",
      "  File \"/usr/local/lib/python3.8/dist-packages/IPython/core/ultratb.py\", line 1396, in structured_traceback\n",
      "    return FormattedTB.structured_traceback(\n",
      "  File \"/usr/local/lib/python3.8/dist-packages/IPython/core/ultratb.py\", line 1287, in structured_traceback\n",
      "    return VerboseTB.structured_traceback(\n",
      "  File \"/usr/local/lib/python3.8/dist-packages/IPython/core/ultratb.py\", line 1140, in structured_traceback\n",
      "    formatted_exception = self.format_exception_as_a_whole(etype, evalue, etb, number_of_lines_of_context,\n",
      "  File \"/usr/local/lib/python3.8/dist-packages/IPython/core/ultratb.py\", line 1030, in format_exception_as_a_whole\n",
      "    self.get_records(etb, number_of_lines_of_context, tb_offset) if etb else []\n",
      "  File \"/usr/local/lib/python3.8/dist-packages/IPython/core/ultratb.py\", line 1082, in get_records\n",
      "    style = stack_data.style_with_executing_node(style, self._tb_highlight)\n",
      "  File \"/usr/local/lib/python3.8/dist-packages/stack_data/core.py\", line 455, in style_with_executing_node\n",
      "    class NewStyle(style):\n",
      "  File \"/usr/lib/python3/dist-packages/pygments/style.py\", line 91, in __new__\n",
      "    ndef[4] = colorformat(styledef[3:])\n",
      "  File \"/usr/lib/python3/dist-packages/pygments/style.py\", line 58, in colorformat\n",
      "    assert False, \"wrong color format %r\" % text\n",
      "AssertionError: wrong color format 'ansiyellow'\n"
     ]
    }
   ],
   "source": [
    "def plot_gallery(images, titles, h, w, n_row=3, n_col=4):\n",
    "    plt.figure(figsize=(1.8 * n_col, 2.4 * n_row))\n",
    "    plt.subplots_adjust(bottom=0, left=.01, right=.99, top=.90, hspace=.35)\n",
    "    for i in range(n_row * n_col):\n",
    "        plt.subplot(n_row, n_col, i + 1)\n",
    "        plt.imshow(images[i].reshape((h, w)), cmap=plt.cm.gray)\n",
    "        plt.title(titles[i], size=12)\n",
    "        plt.xticks(())\n",
    "        plt.yticks(())\n",
    "\n",
    "def title(y_pred, y_test, target_names, i):\n",
    "    pred_name = target_names[y_pred[i]].rsplit(' ', 1)[-1]\n",
    "    true_name = target_names[y_test[i]].rsplit(' ', 1)[-1]\n",
    "    return f'predicted: {pred_name}\\ntrue: {true_name}'\n",
    "\n",
    "prediction_titles = [title(best_reg_mlp.predict(X_test), y_test, target_names, i)\n",
    "                     for i in range(y_test.shape[0])]\n",
    "\n",
    "plot_gallery(X_test, prediction_titles, h=50, w=37, n_row=3, n_col=4)\n",
    "plt.show()"
   ]
  },
  {
   "cell_type": "code",
   "execution_count": null,
   "id": "645cea31-ed56-4ef4-a265-632e706d3aea",
   "metadata": {},
   "outputs": [],
   "source": []
  }
 ],
 "metadata": {
  "kernelspec": {
   "display_name": "Python 3 (ipykernel)",
   "language": "python",
   "name": "python3"
  },
  "language_info": {
   "codemirror_mode": {
    "name": "ipython",
    "version": 3
   },
   "file_extension": ".py",
   "mimetype": "text/x-python",
   "name": "python",
   "nbconvert_exporter": "python",
   "pygments_lexer": "ipython3",
   "version": "3.8.10"
  }
 },
 "nbformat": 4,
 "nbformat_minor": 5
}
