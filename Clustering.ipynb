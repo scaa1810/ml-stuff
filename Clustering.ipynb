{
 "cells": [
  {
   "cell_type": "markdown",
   "id": "879240b6-a2a6-4be8-82db-6e0c4bed41b2",
   "metadata": {},
   "source": [
    "PART 1: CLUSTERING WITH DISTANCE METRICS\n",
    "------------------------------------------------\n",
    "\n",
    "1.       Euclidean distance\n",
    "2.       Manhattan distance\n",
    "3.       Maximum norm\n",
    "4.       Mahalanobis distance\n",
    "5.       Inner product space\n",
    "6.       Hamming distance\n",
    "\n",
    "--\n",
    "Using K-Means or DBSCAN"
   ]
  },
  {
   "cell_type": "code",
   "execution_count": 5,
   "id": "3756e173-a40e-4e78-a83a-d659913d04fd",
   "metadata": {},
   "outputs": [],
   "source": [
    "data_path = '/home/aaliya/Downloads/MallCustomers (1).csv'"
   ]
  },
  {
   "cell_type": "code",
   "execution_count": 10,
   "id": "2c1c0311-6bca-4931-8d36-0ecc80054ae7",
   "metadata": {},
   "outputs": [],
   "source": [
    "#Libraries\n",
    "import numpy as np\n",
    "from sklearn.cluster import KMeans, DBSCAN\n",
    "from scipy.spatial.distance import cdist, pdist, squareform\n",
    "from sklearn.preprocessing import StandardScaler"
   ]
  },
  {
   "cell_type": "code",
   "execution_count": 11,
   "id": "a23f9a78-7811-48c9-8607-38a65e50beb2",
   "metadata": {},
   "outputs": [
    {
     "name": "stdout",
     "output_type": "stream",
     "text": [
      "       customer_id         age  annual_income  spending_score\n",
      "count   200.000000  200.000000     200.000000      200.000000\n",
      "mean    100.500000   38.850000      60.560000       50.200000\n",
      "std      57.879185   13.969007      26.264721       25.823522\n",
      "min       1.000000   18.000000      15.000000        1.000000\n",
      "25%      50.750000   28.750000      41.500000       34.750000\n",
      "50%     100.500000   36.000000      61.500000       50.000000\n",
      "75%     150.250000   49.000000      78.000000       73.000000\n",
      "max     200.000000   70.000000     137.000000       99.000000\n"
     ]
    }
   ],
   "source": [
    "# Load the dataset\n",
    "df = pd.read_csv(data_path)\n",
    "print(df.describe())"
   ]
  },
  {
   "cell_type": "code",
   "execution_count": 12,
   "id": "0fcdc55f-725c-4ce5-8dda-29a52879b41d",
   "metadata": {},
   "outputs": [],
   "source": [
    "#Therefore, annual income and spending score can be x"
   ]
  },
  {
   "cell_type": "code",
   "execution_count": 13,
   "id": "4022eea0-ecaf-47b0-81ca-16e83ca77d42",
   "metadata": {},
   "outputs": [],
   "source": [
    "X = df[['annual_income', 'spending_score']].values"
   ]
  },
  {
   "cell_type": "markdown",
   "id": "405879d9-baaa-43d4-b5df-d9a3af7859ba",
   "metadata": {},
   "source": [
    "Euclidean distance\n",
    "----------------------"
   ]
  },
  {
   "cell_type": "code",
   "execution_count": 51,
   "id": "09f4ebe3-3574-49f4-b955-872345ed2d5e",
   "metadata": {},
   "outputs": [
    {
     "name": "stdout",
     "output_type": "stream",
     "text": [
      "Clustering with Euclidean distance:\n",
      "[2 2 2 2 2 2 2 2 2 2 2 2 2 2 2 2 2 2 2 2 2 2 2 2 2 2 2 2 2 2 2 2 2 2 2 2 2\n",
      " 2 2 2 2 2 2 2 2 2 2 2 2 2 2 2 2 2 2 2 2 2 2 2 2 2 2 2 2 2 2 2 2 2 2 2 2 2\n",
      " 2 2 2 2 2 2 2 2 2 2 2 2 2 2 2 2 2 2 2 2 2 2 2 2 2 2 2 2 2 2 2 2 2 2 2 2 2\n",
      " 2 2 2 2 2 2 2 2 2 2 2 2 1 0 1 0 1 0 1 0 1 0 1 0 1 0 1 0 1 0 1 0 1 0 1 0 1\n",
      " 0 1 0 1 0 1 0 1 0 1 0 1 0 1 0 1 0 1 0 1 0 1 0 1 0 1 0 1 0 1 0 1 0 1 0 1 0\n",
      " 1 0 1 0 1 0 1 0 1 0 1 0 1 0 1]\n",
      "\n"
     ]
    },
    {
     "name": "stderr",
     "output_type": "stream",
     "text": [
      "/home/aaliya/.local/lib/python3.8/site-packages/sklearn/cluster/_kmeans.py:1416: FutureWarning: The default value of `n_init` will change from 10 to 'auto' in 1.4. Set the value of `n_init` explicitly to suppress the warning\n",
      "  super()._check_params_vs_input(X, default_n_init=10)\n"
     ]
    }
   ],
   "source": [
    "#K-MEANS\n",
    "#Since K-means relies more on centroid based clustering, it performs well with euclieadian distance metric\n",
    "#minimizes sum of squared distances\n",
    "\n",
    "labels_euclidean = KMeans(n_clusters=3, random_state=42).fit(X).labels_\n",
    "print(\"Clustering with Euclidean distance:\")\n",
    "print(labels_euclidean)\n",
    "print()"
   ]
  },
  {
   "cell_type": "markdown",
   "id": "dca301c4-90e3-48b7-a555-b908370b49f8",
   "metadata": {},
   "source": [
    "n_init included later to be 10 (not error)"
   ]
  },
  {
   "cell_type": "markdown",
   "id": "5af231b5-bb52-40e5-8f24-9391c04d0b23",
   "metadata": {},
   "source": [
    "Manhattan distance\n",
    "------"
   ]
  },
  {
   "cell_type": "code",
   "execution_count": 52,
   "id": "e6fe4351-b588-4fdc-824c-ba2b26d6ca5f",
   "metadata": {},
   "outputs": [
    {
     "name": "stdout",
     "output_type": "stream",
     "text": [
      "DBSCAN Clustering with Manhattan distance:\n",
      "[-1  0  1  0 -1  0  1 -1  1  0 -1 -1 -1  0 -1  0  2  0  2 -1  2  0  1  0\n",
      " -1 -1  2 -1  2 -1  1  0 -1 -1 -1 -1 -1  0  3 -1  3 -1  3  3  3  3  3  3\n",
      "  3  3  3  3  3  3  3  3  3  3  3  3  3  3  3  3  3  3  3  3  3  3  3  3\n",
      "  3  3  3  3  3  3  3  3  3  3  3  3  3  3  3  3  3  3  3  3  3  3  3  3\n",
      "  3  3  3  3  3  3  3  3  3  3  3  3  3  3  3  3  3  3  3  3  3  3  3  3\n",
      "  3  3  3  4  5  4  5  4  6  4  6  4  5  4  6  4  6  4  6  4  6  4  5  4\n",
      "  6  4  5  4  6  4  6  4  6  4  6  4  6  4  6  4  5  4  6  4  6  4  6  4\n",
      "  6 -1  6 -1  6  4  6  4  6 -1  6  4 -1  4  6  4 -1 -1 -1 -1 -1  4 -1 -1\n",
      " -1 -1 -1 -1 -1 -1 -1 -1]\n"
     ]
    }
   ],
   "source": [
    "#DBSCAN\n",
    "#k-means did not natively support manhattan\n",
    "labels_manhattan = DBSCAN(eps=8.0, min_samples=4, metric='manhattan').fit_predict(X)#with eps and min_samples tuned cause no clusters found initially\n",
    "print(\"DBSCAN Clustering with Manhattan distance:\")\n",
    "print(labels_manhattan)"
   ]
  },
  {
   "cell_type": "markdown",
   "id": "edf26b50-fe3b-4502-85a2-9ff838831b32",
   "metadata": {},
   "source": [
    "Maximum norm/Chebyshev\n",
    "--"
   ]
  },
  {
   "cell_type": "code",
   "execution_count": 53,
   "id": "e81a1faa-8056-4416-b64d-be0993dbe468",
   "metadata": {},
   "outputs": [
    {
     "name": "stdout",
     "output_type": "stream",
     "text": [
      "DBSCAN Clustering with Maximum (Chebyshev) distance:\n",
      "[ 2  0  1  0  2  0  1 -1  1  0  1 -1  1  0  1  0  2  0  2 -1  2  0  1  0\n",
      " -1  0  2  0  2  0  1  0 -1  0 -1  0 -1  0 -1  0  3 -1  3  3  3  3  3  3\n",
      "  3  3  3  3  3  3  3  3  3  3  3  3  3  3  3  3  3  3  3  3  3  3  3  3\n",
      "  3  3  3  3  3  3  3  3  3  3  3  3  3  3  3  3  3  3  3  3  3  3  3  3\n",
      "  3  3  3  3  3  3  3  3  3  3  3  3  3  3  3  3  3  3  3  3  3  3  3  3\n",
      "  3  3  3  4  3  4  3  4  5  4  5  4  3  4  5  4  5  4  5  4  5  4  3  4\n",
      "  5  4  3  4  5  4  5  4  5  4  5  4  5  4  5  4  3  4  5  4  5  4  5  4\n",
      "  5  4  5  4  5  4  5  4  5  4  5  4 -1  4  5  4 -1  4  6 -1  6  4  6 -1\n",
      " -1 -1 -1 -1 -1 -1 -1 -1]\n"
     ]
    }
   ],
   "source": [
    "#dbscan\n",
    "labels_maximum = DBSCAN(eps=7.9, min_samples=4, metric='chebyshev').fit_predict(X)\n",
    "print(\"DBSCAN Clustering with Maximum (Chebyshev) distance:\")\n",
    "print(labels_maximum)"
   ]
  },
  {
   "cell_type": "markdown",
   "id": "1345a215-f408-4afb-853b-426627710450",
   "metadata": {},
   "source": [
    "Mahalanobis distance\n",
    "----"
   ]
  },
  {
   "cell_type": "code",
   "execution_count": 54,
   "id": "9a11bb05-22af-4c05-9be7-64afe6d519e3",
   "metadata": {},
   "outputs": [
    {
     "name": "stdout",
     "output_type": "stream",
     "text": [
      "Clustering with Mahalanobis distance:\n",
      "[2 2 2 2 2 2 2 2 2 2 2 2 2 2 2 2 2 2 2 2 2 2 2 2 2 2 2 2 2 2 2 2 2 2 2 2 2\n",
      " 2 2 2 2 2 2 2 2 2 2 2 2 2 2 2 2 2 2 2 2 2 2 2 2 2 2 2 2 2 2 2 2 2 2 2 2 2\n",
      " 2 2 2 2 2 2 2 2 2 2 2 2 2 2 2 2 2 2 2 2 2 2 2 2 2 2 2 2 2 2 2 2 2 2 2 2 2\n",
      " 2 2 2 2 2 2 2 2 2 2 2 2 1 0 1 0 1 0 1 0 1 0 1 0 1 0 1 0 1 0 1 0 1 0 1 0 1\n",
      " 0 1 0 1 0 1 0 1 0 1 0 1 0 1 0 1 0 1 0 1 0 1 0 1 0 1 0 1 0 1 0 1 0 1 0 1 0\n",
      " 1 0 1 0 1 0 1 0 1 0 1 0 1 0 1]\n",
      "\n"
     ]
    }
   ],
   "source": [
    "#K-Means\n",
    "scaler = StandardScaler()\n",
    "X_scaled = scaler.fit_transform(X)\n",
    "labels_mahalanobis = KMeans(n_init=10,n_clusters=3, random_state=42).fit(X_scaled).labels_\n",
    "print(\"Clustering with Mahalanobis distance:\")\n",
    "print(labels_mahalanobis)"
   ]
  },
  {
   "cell_type": "markdown",
   "id": "335f0b29-22ec-4ab6-8434-8cb4072b6baa",
   "metadata": {},
   "source": [
    "Inner product space\n",
    "----"
   ]
  },
  {
   "cell_type": "code",
   "execution_count": 55,
   "id": "00aaa6e2-2189-4d68-ab9a-6b77388736c2",
   "metadata": {},
   "outputs": [
    {
     "name": "stdout",
     "output_type": "stream",
     "text": [
      "Clustering with Inner product space:\n",
      "[2 2 1 2 2 2 1 2 1 2 0 2 0 2 0 2 0 2 0 2 0 2 1 2 0 2 0 2 0 2 1 2 1 2 1 2 0\n",
      " 2 0 2 0 2 0 0 0 0 0 0 0 0 0 0 0 0 0 0 0 0 0 0 0 0 0 0 0 0 0 0 0 0 0 0 0 0\n",
      " 0 0 0 0 0 0 0 0 0 0 0 0 0 0 0 0 0 0 0 0 0 0 0 0 0 0 0 0 0 0 0 0 0 0 0 0 0\n",
      " 0 0 0 0 0 0 0 0 0 0 0 0 0 1 0 0 0 1 0 1 0 0 0 1 0 1 0 1 0 1 0 0 0 1 0 0 0\n",
      " 1 0 1 0 1 0 1 0 1 0 1 0 0 0 1 0 1 0 1 0 1 0 1 0 1 0 1 0 1 0 1 0 1 0 1 0 1\n",
      " 0 1 0 1 0 1 0 1 0 1 0 1 0 1 0]\n",
      "\n"
     ]
    }
   ],
   "source": [
    "#K-means\n",
    "labels_inner_product = KMeans(n_init=10,n_clusters=3, random_state=42).fit(1 - np.dot(X, X.T) / (np.linalg.norm(X, axis=1)[:, None] * np.linalg.norm(X, axis=1))).labels_\n",
    "print(\"Clustering with Inner product space:\")\n",
    "print(labels_inner_product)\n",
    "print()"
   ]
  },
  {
   "cell_type": "markdown",
   "id": "51973e02-0fe1-40c3-9176-9e7784521b6a",
   "metadata": {},
   "source": [
    "Hamming distance\n",
    "--"
   ]
  },
  {
   "cell_type": "code",
   "execution_count": 76,
   "id": "b47132f5-fbdf-4fcf-8db4-f28b027dffbe",
   "metadata": {},
   "outputs": [
    {
     "name": "stdout",
     "output_type": "stream",
     "text": [
      "Clustering with Hamming distance:\n",
      "[0 0 0 0 0 0 0 0 0 0 0 0 0 0 0 0 0 0 0 0 0 0 0 0 0 0 0 0 0 0 0 0 0 0 0 0 0\n",
      " 0 0 0 0 0 0 0 0 0 0 0 0 0 0 0 0 0 0 0 0 0 0 0 0 0 0 0 0 0 0 0 0 0 0 0 0 0\n",
      " 0 0 0 0 0 0 0 0 0 0 0 0 0 0 0 0 0 0 0 0 0 0 0 0 0 0 0 0 0 0 0 0 0 0 0 0 0\n",
      " 0 0 0 0 0 0 0 0 0 0 0 0 0 0 0 0 0 0 0 0 0 0 0 0 0 0 0 0 0 0 0 0 0 0 0 0 0\n",
      " 0 0 0 0 0 0 0 0 0 0 0 0 0 0 0 0 0 0 0 0 0 0 0 0 0 0 0 0 0 0 0 0 0 0 0 0 0\n",
      " 0 0 0 0 0 0 0 0 0 0 0 0 0 0 0]\n",
      "\n",
      "\n",
      "\n",
      "\n"
     ]
    }
   ],
   "source": [
    "labels_hamming = DBSCAN(eps=3.5, min_samples=2, metric='hamming').fit(X).labels_\n",
    "print(\"Clustering with Hamming distance:\")\n",
    "print(labels_hamming)\n",
    "print(\"\\n\\n\\n\")"
   ]
  },
  {
   "cell_type": "markdown",
   "id": "2ebeb4ea-4b4d-46be-b826-34cd611c2343",
   "metadata": {},
   "source": [
    "Therefore, we can see that\n",
    "KMeans : Euclidean and Mahalanobis distances are effective, inner-product less effective. \n",
    "DBSCAN : Manhattan and Chebyshev distances performed well for cluster formation"
   ]
  },
  {
   "cell_type": "markdown",
   "id": "8cb0e625-0981-432c-b915-30e4e922b965",
   "metadata": {},
   "source": [
    "------------"
   ]
  },
  {
   "cell_type": "markdown",
   "id": "b2631c23-92a6-4663-a5d6-826d2efbc23d",
   "metadata": {},
   "source": [
    "Part 2 : Hierarchial Clustering approaches\n",
    "----"
   ]
  },
  {
   "cell_type": "code",
   "execution_count": 71,
   "id": "6445b7ed-10eb-40a0-b97f-7c4e4475d9d3",
   "metadata": {},
   "outputs": [],
   "source": [
    "#import more\n",
    "from scipy.cluster.hierarchy import linkage, dendrogram, fcluster\n",
    "import matplotlib.pyplot as plt"
   ]
  },
  {
   "cell_type": "markdown",
   "id": "cfa784f8-20e3-49e3-a0e8-a9d629493947",
   "metadata": {},
   "source": [
    "K-mode\n",
    "--"
   ]
  },
  {
   "cell_type": "code",
   "execution_count": 73,
   "id": "2c405178-5304-4f2c-a39e-9b55a12d536d",
   "metadata": {},
   "outputs": [
    {
     "name": "stdout",
     "output_type": "stream",
     "text": [
      "Hierarchical Clustering with K-mode:\n",
      "[2 2 2 2 2 2 2 2 2 2 2 2 2 2 2 2 2 2 2 2 2 2 2 2 2 2 2 2 2 2 2 2 2 2 2 2 2\n",
      " 2 2 2 2 2 2 2 2 2 2 2 2 2 2 2 2 2 2 2 2 2 2 2 2 2 2 2 2 2 2 2 2 2 2 2 2 2\n",
      " 2 2 2 2 2 2 2 2 2 2 2 2 2 2 2 2 2 2 2 2 2 2 2 2 2 2 2 2 2 2 2 2 2 2 2 2 2\n",
      " 2 2 2 2 2 2 2 2 2 2 2 2 1 0 1 0 1 0 1 0 1 0 1 0 1 0 1 0 1 0 1 0 1 0 1 0 1\n",
      " 0 1 0 1 0 1 0 1 0 1 0 1 0 1 0 1 0 1 0 1 0 1 0 1 0 1 0 1 0 1 0 1 0 1 0 1 0\n",
      " 1 0 1 0 1 0 1 0 1 0 1 0 1 0 1]\n"
     ]
    }
   ],
   "source": [
    "labels_k_mode = KMeans(n_init=10, n_clusters=3, random_state=42).fit(X).labels_\n",
    "print(\"Hierarchical Clustering with K-mode:\")\n",
    "print(labels_k_mode)"
   ]
  },
  {
   "cell_type": "markdown",
   "id": "7fdcf70c-e953-40dc-b241-999f36758b06",
   "metadata": {},
   "source": [
    "K-Means\n",
    "--"
   ]
  },
  {
   "cell_type": "code",
   "execution_count": 75,
   "id": "851f086e-4006-4d6f-80f2-d924373eae57",
   "metadata": {},
   "outputs": [
    {
     "name": "stdout",
     "output_type": "stream",
     "text": [
      "Hierarchical Clustering with K-means++:\n",
      "[2 2 2 2 2 2 2 2 2 2 2 2 2 2 2 2 2 2 2 2 2 2 2 2 2 2 2 2 2 2 2 2 2 2 2 2 2\n",
      " 2 2 2 2 2 2 2 2 2 2 2 2 2 2 2 2 2 2 2 2 2 2 2 2 2 2 2 2 2 2 2 2 2 2 2 2 2\n",
      " 2 2 2 2 2 2 2 2 2 2 2 2 2 2 2 2 2 2 2 2 2 2 2 2 2 2 2 2 2 2 2 2 2 2 2 2 2\n",
      " 2 2 2 2 2 2 2 2 2 2 2 2 1 0 1 0 1 0 1 0 1 0 1 0 1 0 1 0 1 0 1 0 1 0 1 0 1\n",
      " 0 1 0 1 0 1 0 1 0 1 0 1 0 1 0 1 0 1 0 1 0 1 0 1 0 1 0 1 0 1 0 1 0 1 0 1 0\n",
      " 1 0 1 0 1 0 1 0 1 0 1 0 1 0 1]\n"
     ]
    }
   ],
   "source": [
    "labels_k_means_plus_plus = KMeans(n_init=10, n_clusters=3, init='k-means++', random_state=42).fit(X).labels_\n",
    "print(\"Hierarchical Clustering with K-means++:\")\n",
    "print(labels_k_means_plus_plus)"
   ]
  },
  {
   "cell_type": "markdown",
   "id": "7d1527b8-4b59-4fa8-ad63-116f0fe1cb5a",
   "metadata": {},
   "source": [
    "Diana\n",
    "---\n",
    "--"
   ]
  },
  {
   "cell_type": "code",
   "execution_count": 82,
   "id": "1f259cbc-c94a-4d52-8708-44c087d0a7c1",
   "metadata": {},
   "outputs": [],
   "source": [
    "#Diana not supported by sklearn"
   ]
  },
  {
   "cell_type": "code",
   "execution_count": 83,
   "id": "ecc07ed8-3ada-4202-bda9-a029f4ebd683",
   "metadata": {},
   "outputs": [],
   "source": [
    "#rpy2 can be used\n",
    "#cannot be supported for my computer"
   ]
  },
  {
   "cell_type": "code",
   "execution_count": null,
   "id": "6d243c1a-52af-43ee-8bcb-ce47bab86b8f",
   "metadata": {},
   "outputs": [],
   "source": [
    "import rpy2.robjects as robjects\n",
    "from rpy2.robjects import pandas2ri\n",
    "import pandas as pd\n",
    "\n",
    "# Activate pandas2ri for converting DataFrame formats between Python and R\n",
    "pandas2ri.activate()\n",
    "\n",
    "# Assuming X is your dataset in numpy array or pandas DataFrame format\n",
    "df = pd.DataFrame(X)  # Convert to DataFrame if needed\n",
    "\n",
    "# Load the R cluster library and perform DIANA clustering\n",
    "robjects.r('''\n",
    "    library(cluster)\n",
    "    diana_clustering <- function(data) {\n",
    "        # Perform DIANA clustering\n",
    "        diana_result <- diana(data)\n",
    "        # Cut the tree to get 3 clusters\n",
    "        clusters <- cutree(as.hclust(diana_result), k = 3)\n",
    "        return(clusters)\n",
    "    }\n",
    "''')\n",
    "\n",
    "# Call the R function from Python\n",
    "diana_clustering = robjects.globalenv['diana_clustering']\n",
    "labels_diana = diana_clustering(df)\n",
    "\n",
    "# Convert R output back to a Python list\n",
    "labels_diana = list(labels_diana)\n",
    "print(\"DIANA Hierarchical Clustering Results:\")\n",
    "print(labels_diana)"
   ]
  },
  {
   "cell_type": "markdown",
   "id": "66b7e4b9-465f-4d41-b0fb-c8be2b9a9923",
   "metadata": {},
   "source": [
    "Agnes\n",
    "--"
   ]
  },
  {
   "cell_type": "code",
   "execution_count": 85,
   "id": "c07e4d3c-1fb9-4757-b85f-dfd77c9d85dd",
   "metadata": {},
   "outputs": [
    {
     "name": "stdout",
     "output_type": "stream",
     "text": [
      "Hierarchical Clustering with AGNES:\n",
      "[3 3 3 3 3 3 3 3 3 3 3 3 3 3 3 3 3 3 3 3 3 3 3 3 3 3 3 3 3 3 3 3 3 3 3 3 3\n",
      " 3 3 3 3 3 3 3 3 3 3 3 3 3 3 3 3 3 3 3 3 3 3 3 3 3 3 3 3 3 3 3 3 3 3 3 3 3\n",
      " 3 3 3 3 3 3 3 3 3 3 3 3 3 3 3 3 3 3 3 3 3 3 3 3 3 3 3 3 3 3 3 3 3 3 3 3 3\n",
      " 3 3 3 3 3 3 3 3 3 3 3 3 1 2 1 2 1 2 1 2 1 2 1 2 1 2 1 2 1 2 1 2 1 2 1 2 1\n",
      " 2 1 2 1 2 1 2 1 2 1 2 1 2 1 2 1 2 1 2 1 2 1 2 1 2 1 2 1 2 1 2 1 2 1 2 1 2\n",
      " 1 2 1 2 1 2 1 2 1 2 1 2 1 2 1]\n"
     ]
    }
   ],
   "source": [
    "Z = linkage(X, method='average')\n",
    "labels_agnes = fcluster(Z, 3, criterion='maxclust')\n",
    "print(\"Hierarchical Clustering with AGNES:\")\n",
    "print(labels_agnes)"
   ]
  },
  {
   "cell_type": "markdown",
   "id": "74ca129f-b17c-4637-a4ad-953e1db63156",
   "metadata": {},
   "source": [
    "DBSCAN\n",
    "--"
   ]
  },
  {
   "cell_type": "code",
   "execution_count": 90,
   "id": "6a9fc725-589a-4fee-bcb6-96a8e3cb96a3",
   "metadata": {},
   "outputs": [
    {
     "name": "stdout",
     "output_type": "stream",
     "text": [
      "Hierarchical Clustering with DBSCAN:\n",
      "[ 2  0  1  0  2  0  1 -1  1  0  1 -1  1  0  1  0  2  0  2 -1  2  0  1  0\n",
      " -1  0  2 -1  2  0  1  0 -1  0 -1  0 -1  0 -1  0  3 -1  3  3  3  3  3  3\n",
      "  3  3  3  3  3  3  3  3  3  3  3  3  3  3  3  3  3  3  3  3  3  3  3  3\n",
      "  3  3  3  3  3  3  3  3  3  3  3  3  3  3  3  3  3  3  3  3  3  3  3  3\n",
      "  3  3  3  3  3  3  3  3  3  3  3  3  3  3  3  3  3  3  3  3  3  3  3  3\n",
      "  3  3  3  4  3  4  3  4  5  4  5  4  3  4  5  4  5  4  5  4  5  4  3  4\n",
      "  5  4  3  4  5  4  5  4  5  4  5  4  5  4  5  4  3  4  5  4  6  4  6  4\n",
      "  6  4  6  4  6  4  6  4  6  4  6  4 -1  4  6  4 -1 -1  7 -1  7  4  7 -1\n",
      " -1 -1 -1 -1 -1 -1 -1 -1]\n"
     ]
    }
   ],
   "source": [
    "labels_dbscan = DBSCAN(eps=7.5, min_samples=4).fit(X).labels_#not fullt optimised eps and min_samples but changed value\n",
    "#for maximum clustering\n",
    "print(\"Hierarchical Clustering with DBSCAN:\")\n",
    "print(labels_dbscan)"
   ]
  },
  {
   "cell_type": "markdown",
   "id": "08e4f55e-a394-4b07-bd5c-939e5ccf109a",
   "metadata": {},
   "source": [
    "EVALUATAION OF RESULTS\n",
    "---\n",
    "--"
   ]
  },
  {
   "cell_type": "code",
   "execution_count": 91,
   "id": "9e06a86c-716f-4173-945a-cd0c56adba9a",
   "metadata": {},
   "outputs": [],
   "source": [
    "from sklearn.metrics import silhouette_score"
   ]
  },
  {
   "cell_type": "markdown",
   "id": "0dafc806-d9ca-4d69-924d-1f94391aa715",
   "metadata": {},
   "source": [
    "Elbow method"
   ]
  },
  {
   "cell_type": "code",
   "execution_count": 96,
   "id": "f974268c-3e53-40e1-8b89-58406e426df7",
   "metadata": {},
   "outputs": [
    {
     "data": {
      "image/png": "[encoded data removed]",
      "text/plain": [
       "<Figure size 800x600 with 1 Axes>"
      ]
     },
     "metadata": {},
     "output_type": "display_data"
    }
   ],
   "source": [
    "#Elbow\n",
    "distortions = []\n",
    "for i in range(1, 11):\n",
    "    km = KMeans(n_init=10, n_clusters=i, random_state=42)\n",
    "    km.fit(X)\n",
    "    distortions.append(km.inertia_)\n",
    "    \n",
    "plt.figure(figsize=(8, 6))\n",
    "plt.plot(range(1, 11), distortions, 'bx-')\n",
    "plt.xlabel('Number of clusters')\n",
    "plt.ylabel('Distortion')\n",
    "plt.title('Elbow method')\n",
    "plt.show()"
   ]
  },
  {
   "cell_type": "markdown",
   "id": "c30692d5-a9d6-4176-817f-7c6112b97170",
   "metadata": {},
   "source": [
    "Elbow point seems to be near k=4 or 5"
   ]
  },
  {
   "cell_type": "markdown",
   "id": "18597647-2ac1-4b1c-89a0-f3e3f82cc9df",
   "metadata": {},
   "source": [
    "Beyond the point,adding more clusters reduces distortion less significantly."
   ]
  },
  {
   "cell_type": "markdown",
   "id": "64ad0134-5f5d-4516-918c-14e4f3161b13",
   "metadata": {},
   "source": [
    "Silhouette score\n",
    "--"
   ]
  },
  {
   "cell_type": "code",
   "execution_count": 101,
   "id": "b892fe87-9740-414c-92cc-769ff1a46c9f",
   "metadata": {},
   "outputs": [
    {
     "data": {
      "image/png": "[encoded data removed]",
      "text/plain": [
       "<Figure size 800x600 with 1 Axes>"
      ]
     },
     "metadata": {},
     "output_type": "display_data"
    }
   ],
   "source": [
    "#silhouette\n",
    "silhouette_scores = []\n",
    "for n_clusters in range(2, 11):\n",
    "    clusterer = KMeans(n_init=10,n_clusters=n_clusters, random_state=42)\n",
    "    cluster_labels = clusterer.fit_predict(X)\n",
    "    silhouette_avg = silhouette_score(X, cluster_labels)\n",
    "    silhouette_scores.append(silhouette_avg)\n",
    "plt.figure(figsize=(8, 6))\n",
    "plt.plot(range(2, 11), silhouette_scores)\n",
    "plt.xlabel('Number of clusters')\n",
    "plt.ylabel('Silhouette score')\n",
    "plt.title('Silhouette plot')\n",
    "plt.show()"
   ]
  },
  {
   "cell_type": "markdown",
   "id": "339dbca2-0d3a-47d8-9660-360ad04a42ae",
   "metadata": {},
   "source": [
    "Peaks at 4 or 5 clusters, 5 being the more optimal one, so near there is the optimal value of clusters"
   ]
  },
  {
   "cell_type": "markdown",
   "id": "0b748fd0-79a7-4615-9e20-1e42aa5a53c5",
   "metadata": {},
   "source": [
    "After that just decreses, meaning that adding more clusters then doesnt improve the quality"
   ]
  },
  {
   "cell_type": "markdown",
   "id": "156beee0-9520-4ec7-8805-16c2caf409ee",
   "metadata": {},
   "source": [
    "---\n"
   ]
  }
 ],
 "metadata": {
  "kernelspec": {
   "display_name": "Python 3 (ipykernel)",
   "language": "python",
   "name": "python3"
  },
  "language_info": {
   "codemirror_mode": {
    "name": "ipython",
    "version": 3
   },
   "file_extension": ".py",
   "mimetype": "text/x-python",
   "name": "python",
   "nbconvert_exporter": "python",
   "pygments_lexer": "ipython3",
   "version": "3.8.10"
  }
 },
 "nbformat": 4,
 "nbformat_minor": 5
}
